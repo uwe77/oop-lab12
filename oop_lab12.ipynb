{
 "cells": [
  {
   "cell_type": "markdown",
   "metadata": {},
   "source": [
    "# Lab 12 Pandas & ELO rating"
   ]
  },
  {
   "cell_type": "code",
   "execution_count": 275,
   "metadata": {},
   "outputs": [],
   "source": [
    "import numpy as np\n",
    "import pandas as pd\n",
    "import matplotlib.pyplot as plt"
   ]
  },
  {
   "cell_type": "markdown",
   "metadata": {},
   "source": [
    "## 使用pandas將data存進csv範例"
   ]
  },
  {
   "cell_type": "code",
   "execution_count": 276,
   "metadata": {},
   "outputs": [],
   "source": [
    "\n",
    "# 三个字段 name, site, age\n",
    "nme = [\"Google\", \"Runoob\", \"Taobao\", \"Wiki\"]\n",
    "st = [\"www.google.com\", \"www.runoob.com\", \"www.taobao.com\", \"www.wikipedia.org\"]\n",
    "ag = [90, 40, 80, 98]\n",
    "   \n",
    "# 字典\n",
    "dict = {'name': nme, 'site': st, 'age': ag}\n",
    "     \n",
    "df = pd.DataFrame(dict)\n",
    " \n",
    "# 保存 dataframe\n",
    "df.to_csv('site.csv')\n"
   ]
  },
  {
   "cell_type": "markdown",
   "metadata": {},
   "source": [
    "## 常用的pandas functions"
   ]
  },
  {
   "cell_type": "code",
   "execution_count": 277,
   "metadata": {},
   "outputs": [
    {
     "name": "stdout",
     "output_type": "stream",
     "text": [
      "==================================\n",
      "   Unnamed: 0    name               site  age\n",
      "0           0  Google     www.google.com   90\n",
      "1           1  Runoob     www.runoob.com   40\n",
      "2           2  Taobao     www.taobao.com   80\n",
      "3           3    Wiki  www.wikipedia.org   98\n",
      "==================================\n",
      "   Unnamed: 0    name               site  age\n",
      "0           0  Google     www.google.com   90\n",
      "1           1  Runoob     www.runoob.com   40\n",
      "2           2  Taobao     www.taobao.com   80\n",
      "3           3    Wiki  www.wikipedia.org   98\n",
      "==================================\n",
      "<class 'pandas.core.frame.DataFrame'>\n",
      "RangeIndex: 4 entries, 0 to 3\n",
      "Data columns (total 4 columns):\n",
      " #   Column      Non-Null Count  Dtype \n",
      "---  ------      --------------  ----- \n",
      " 0   Unnamed: 0  4 non-null      int64 \n",
      " 1   name        4 non-null      object\n",
      " 2   site        4 non-null      object\n",
      " 3   age         4 non-null      int64 \n",
      "dtypes: int64(2), object(2)\n",
      "memory usage: 256.0+ bytes\n",
      "None\n",
      "==================================\n",
      "       Unnamed: 0        age\n",
      "count    4.000000   4.000000\n",
      "mean     1.500000  77.000000\n",
      "std      1.290994  25.742313\n",
      "min      0.000000  40.000000\n",
      "25%      0.750000  70.000000\n",
      "50%      1.500000  85.000000\n",
      "75%      2.250000  92.000000\n",
      "max      3.000000  98.000000\n",
      "==================================\n",
      "(4, 4)\n"
     ]
    },
    {
     "data": {
      "text/plain": [
       "'\\ndf.dropna() # 删除包含缺失值的行或列； https://pandas.pydata.org/docs/reference/api/pandas.DataFrame.dropna.html#pandas.DataFrame.dropna\\ndf.sort_value() # 可根据指定列数据也可根据指定行的数据排序; https://pandas.pydata.org/docs/reference/api/pandas.DataFrame.sort_values.html\\ndf.fillna(value) # 将缺失值替换为指定的值；\\ndf.replace(old_value, new_value) # 将指定值替换为新值；\\ndf.duplicated() # 检查是否有重复的数据；\\ndf.drop_duplicates() # 删除重复的数据。\\n'"
      ]
     },
     "execution_count": 277,
     "metadata": {},
     "output_type": "execute_result"
    }
   ],
   "source": [
    "df = pd.read_csv('site.csv')\n",
    "\n",
    "# head( n ) 方法用于读取前面的 n 行，如果不填参数 n ，默认返回 5 行。\n",
    "print(\"==================================\")\n",
    "print(df.head())\n",
    "\n",
    "# tail( n ) 方法用于读取尾部的 n 行，如果不填参数 n ，默认返回 5 行，空行各个字段的值返回 NaN。\n",
    "print(\"==================================\")\n",
    "print(df.tail())\n",
    "\n",
    "# info() 方法返回表格的一些基本信息：\n",
    "print(\"==================================\")\n",
    "print(df.info())\n",
    "\n",
    "# 显示基本统计信息\n",
    "print(\"==================================\")\n",
    "print(df.describe())\n",
    "\n",
    "# 显示数据的行数和列数\n",
    "print(\"==================================\")\n",
    "print(df.shape)\n",
    "\n",
    "\n",
    "'''\n",
    "df.dropna() # 删除包含缺失值的行或列； https://pandas.pydata.org/docs/reference/api/pandas.DataFrame.dropna.html#pandas.DataFrame.dropna\n",
    "df.sort_value() # 可根据指定列数据也可根据指定行的数据排序; https://pandas.pydata.org/docs/reference/api/pandas.DataFrame.sort_values.html\n",
    "df.fillna(value) # 将缺失值替换为指定的值；\n",
    "df.replace(old_value, new_value) # 将指定值替换为新值；\n",
    "df.duplicated() # 检查是否有重复的数据；\n",
    "df.drop_duplicates() # 删除重复的数据。\n",
    "'''\n"
   ]
  },
  {
   "cell_type": "markdown",
   "metadata": {},
   "source": [
    "## LAB: Pandas"
   ]
  },
  {
   "cell_type": "code",
   "execution_count": 278,
   "metadata": {},
   "outputs": [],
   "source": [
    "from sklearn import datasets\n",
    "iris = datasets.load_iris()\n",
    "df = pd.DataFrame(data=iris.data, columns=iris.feature_names)\n",
    "df['species'] = pd.Categorical.from_codes(iris.target, iris.target_names)"
   ]
  },
  {
   "cell_type": "markdown",
   "metadata": {},
   "source": [
    "### Task:\n",
    "```\n",
    "Using Pandas\n",
    "1. Sort out how many species is inside iris dataset.\n",
    "2. Sort out how many data's \"sepal length (cm)\" is between 5.0~6.0.\n",
    "3. Sort out how many data's \"sepal length (cm)\" is between 5.0~6.0 for each species.\n",
    "```"
   ]
  },
  {
   "cell_type": "code",
   "execution_count": 279,
   "metadata": {},
   "outputs": [],
   "source": [
    "# Task 1: Sort out how many species are inside the Iris dataset\n",
    "# =============type your code below=================\n",
    "species_count = 0\n",
    "species_count = df['species'].nunique()\n",
    "# =============type your code above=================\n",
    "assert species_count == 3\n",
    "\n",
    "# Task 2: Sort out how many data's \"sepal length (cm)\" is between 5.0 and 6.0\n",
    "# =============type your code below=================\n",
    "sepal_length_between_5_and_6 = 0\n",
    "sepal_length_between_5_and_6 = df[(df['sepal length (cm)'] >= 5.0) & (df['sepal length (cm)'] <= 6.0)].shape[0]\n",
    "# =============type your code above=================\n",
    "assert sepal_length_between_5_and_6 == 67\n",
    "\n",
    "# Task 3: Sort out how many data's \"sepal length (cm)\" is between 5.0 and 6.0 for each species\n",
    "# =============type your code below=================\n",
    "setosa_sepal_length_between_5_and_6 = 0\n",
    "versicolor_sepal_length_between_5_and_6 = 0\n",
    "virginica_sepal_length_between_5_and_6 = 0\n",
    "setosa_sepal_length_between_5_and_6 = df[(df['sepal length (cm)'] >= 5.0) & (df['sepal length (cm)'] <= 6.0) & (df['species'] == 'setosa')].shape[0]\n",
    "versicolor_sepal_length_between_5_and_6 = df[(df['sepal length (cm)'] >= 5.0) & (df['sepal length (cm)'] <= 6.0) & (df['species'] == 'versicolor')].shape[0]\n",
    "virginica_sepal_length_between_5_and_6 = df[(df['sepal length (cm)'] >= 5.0) & (df['sepal length (cm)'] <= 6.0) & (df['species'] == 'virginica')].shape[0]\n",
    "# =============type your code above=================\n",
    "assert setosa_sepal_length_between_5_and_6 == 30\n",
    "assert versicolor_sepal_length_between_5_and_6 == 29\n",
    "assert virginica_sepal_length_between_5_and_6 == 8"
   ]
  },
  {
   "cell_type": "markdown",
   "metadata": {},
   "source": [
    "## LAB: ELO Rating"
   ]
  },
  {
   "cell_type": "markdown",
   "metadata": {},
   "source": [
    "### Task1: \n",
    "```\n",
    "1. Use data & pandas to store and read the battle list from battles.csv\n",
    "2. And pandas's functions to clean the data(there's some row data need to be clean)\n",
    "```"
   ]
  },
  {
   "cell_type": "code",
   "execution_count": 280,
   "metadata": {},
   "outputs": [],
   "source": [
    "data = None\n",
    "# =============Type your code here================\n",
    "# Load dataset\n",
    "data = pd.read_csv('battles.csv')\n",
    "# Clean data\n",
    "data.dropna(inplace=True)\n",
    "# =============Type your code here================\n",
    "\n",
    "assert data is not None\n",
    "\n",
    "# Extract relevant columns\n",
    "matches = data[['player1', 'player2', 'player1_score', 'player2_score']]\n",
    "\n",
    "# Initialize ratings\n",
    "ratings = {}"
   ]
  },
  {
   "cell_type": "code",
   "execution_count": 281,
   "metadata": {},
   "outputs": [],
   "source": [
    "def get_rating(player):\n",
    "    if player not in ratings:\n",
    "        ratings[player] = 1000\n",
    "    return ratings[player]\n",
    "\n",
    "def expected_score(rating_a, rating_b):\n",
    "    return 1 / (1 + 10 ** ((rating_b - rating_a) / 400))\n",
    "\n",
    "def update_rating(old_rating, actual_score, expected_score, k=500):\n",
    "    return old_rating + k * (actual_score - expected_score)"
   ]
  },
  {
   "cell_type": "markdown",
   "metadata": {},
   "source": [
    "### Task2:\n",
    "```\n",
    "1. Use pandas to transform ratings from Dict to pandas.DataFrame and use ratings_df to store it.\n",
    "   Also make the columns=['Player', 'Rating'].\n",
    "2. And using pandas's function to sort players depend on their \"Rating\" from high to low.\n",
    "```\n",
    "In the end you should see:\n",
    "\n",
    "<img src=\"final_output.png\" width=\"500px\">"
   ]
  },
  {
   "cell_type": "code",
   "execution_count": 282,
   "metadata": {},
   "outputs": [
    {
     "data": {
      "image/png": "[encoded data removed]",
      "text/plain": [
       "<Figure size 640x480 with 1 Axes>"
      ]
     },
     "metadata": {},
     "output_type": "display_data"
    }
   ],
   "source": [
    "# Apply ELO calculations\n",
    "for index, row in matches.iterrows():\n",
    "    player1 = row['player1']\n",
    "    player2 = row['player2']\n",
    "    score1 = row['player1_score']\n",
    "    score2 = row['player2_score']\n",
    "\n",
    "    rating1 = get_rating(player1)\n",
    "    rating2 = get_rating(player2)\n",
    "\n",
    "    expected1 = expected_score(rating1, rating2)\n",
    "    expected2 = expected_score(rating2, rating1)\n",
    "\n",
    "    new_rating1 = update_rating(rating1, score1, expected1)\n",
    "    new_rating2 = update_rating(rating2, score2, expected2)\n",
    "\n",
    "    ratings[player1] = new_rating1\n",
    "    ratings[player2] = new_rating2\n",
    "# ======================================================================================\n",
    "\n",
    "ratings_df = pd.DataFrame(columns=['Player', 'Rating'])\n",
    "# =============Type your code here================\n",
    "# Convert ratings to DataFrame\n",
    "ratings_df = pd.DataFrame(list(ratings.items()), columns=['Player', 'Rating'])\n",
    "ratings_df = ratings_df.sort_values(by='Rating', ascending=False)\n",
    "# =============Type your code here================\n",
    "\n",
    "\n",
    "expected_order = ['John', 'Doe', 'Smith', 'Jane']\n",
    "actual_order = ratings_df['Player'].tolist()\n",
    "# Plot ratings\n",
    "ratings_df.plot(kind='bar', x='Player', y='Rating', legend=False)\n",
    "plt.xlabel('Player')\n",
    "plt.ylabel('ELO Rating')\n",
    "plt.title('ELO Ratings of Players')\n",
    "plt.show()\n",
    "assert actual_order == expected_order, f\"Expected order is {expected_order}, but got {actual_order}\""
   ]
  }
 ],
 "metadata": {
  "kernelspec": {
   "display_name": "Python 3",
   "language": "python",
   "name": "python3"
  },
  "language_info": {
   "codemirror_mode": {
    "name": "ipython",
    "version": 3
   },
   "file_extension": ".py",
   "mimetype": "text/x-python",
   "name": "python",
   "nbconvert_exporter": "python",
   "pygments_lexer": "ipython3",
   "version": "3.8.10"
  }
 },
 "nbformat": 4,
 "nbformat_minor": 2
}
